{
 "cells": [
  {
   "cell_type": "markdown",
   "metadata": {},
   "source": [
    "# Topic Modeling\n",
    "\n",
    "The aim of this notebook is to train a model to automatically identify the topics on the reviews.\n",
    "\n",
    "The process will include:\n",
    "1. Generate a df with all the reviews from Google and Yelp related to gastronomic stores in the states of interest (California, Florida, Nevada, New York, Texas).\n",
    "2. Process the text of the reviews to generate a dictionary of tokens\n",
    "3. Generate a Corpus based on the dictionary of tokens.\n",
    "4. Train a LDA Unsupervised model to discover inherent topics in the reviews.\n",
    "5. Tune the number of topics.\n",
    "6. Save the model.\n",
    "7. Prepare a minimal pipeline to process future reviews."
   ]
  },
  {
   "cell_type": "code",
   "execution_count": 1,
   "metadata": {},
   "outputs": [],
   "source": [
    "import numpy as np\n",
    "import pandas as pd\n",
    "import seaborn as sns\n",
    "import matplotlib.pyplot as plt\n",
    "import os\n",
    "import ast"
   ]
  },
  {
   "cell_type": "markdown",
   "metadata": {},
   "source": [
    "# GOOGLE"
   ]
  },
  {
   "cell_type": "code",
   "execution_count": 5,
   "metadata": {},
   "outputs": [],
   "source": [
    "folder_path = './metadata-sitios/'\n",
    "dfmeta = pd.DataFrame()\n",
    "\n",
    "for file_name in os.listdir(folder_path):\n",
    "    if file_name.endswith('.json'):\n",
    "        file_path = os.path.join(folder_path, file_name)\n",
    "        dfaux = pd.read_json(file_path, lines=True)\n",
    "        dfmeta = pd.concat([dfmeta, dfaux], ignore_index=True)"
   ]
  },
  {
   "cell_type": "code",
   "execution_count": 6,
   "metadata": {},
   "outputs": [
    {
     "data": {
      "text/html": [
       "<div>\n",
       "<style scoped>\n",
       "    .dataframe tbody tr th:only-of-type {\n",
       "        vertical-align: middle;\n",
       "    }\n",
       "\n",
       "    .dataframe tbody tr th {\n",
       "        vertical-align: top;\n",
       "    }\n",
       "\n",
       "    .dataframe thead th {\n",
       "        text-align: right;\n",
       "    }\n",
       "</style>\n",
       "<table border=\"1\" class=\"dataframe\">\n",
       "  <thead>\n",
       "    <tr style=\"text-align: right;\">\n",
       "      <th></th>\n",
       "      <th>name</th>\n",
       "      <th>address</th>\n",
       "      <th>gmap_id</th>\n",
       "      <th>description</th>\n",
       "      <th>latitude</th>\n",
       "      <th>longitude</th>\n",
       "      <th>category</th>\n",
       "      <th>avg_rating</th>\n",
       "      <th>num_of_reviews</th>\n",
       "      <th>price</th>\n",
       "      <th>hours</th>\n",
       "      <th>MISC</th>\n",
       "      <th>state</th>\n",
       "      <th>relative_results</th>\n",
       "      <th>url</th>\n",
       "    </tr>\n",
       "  </thead>\n",
       "  <tbody>\n",
       "    <tr>\n",
       "      <th>0</th>\n",
       "      <td>Porter Pharmacy</td>\n",
       "      <td>Porter Pharmacy, 129 N Second St, Cochran, GA ...</td>\n",
       "      <td>0x88f16e41928ff687:0x883dad4fd048e8f8</td>\n",
       "      <td>None</td>\n",
       "      <td>32.388300</td>\n",
       "      <td>-83.357100</td>\n",
       "      <td>[Pharmacy]</td>\n",
       "      <td>4.9</td>\n",
       "      <td>16</td>\n",
       "      <td>None</td>\n",
       "      <td>[[Friday, 8AM–6PM], [Saturday, 8AM–12PM], [Sun...</td>\n",
       "      <td>{'Service options': ['In-store shopping', 'Sam...</td>\n",
       "      <td>Open ⋅ Closes 6PM</td>\n",
       "      <td>[0x88f16e41929435cf:0x5b2532a2885e9ef6, 0x88f1...</td>\n",
       "      <td>https://www.google.com/maps/place//data=!4m2!3...</td>\n",
       "    </tr>\n",
       "    <tr>\n",
       "      <th>1</th>\n",
       "      <td>City Textile</td>\n",
       "      <td>City Textile, 3001 E Pico Blvd, Los Angeles, C...</td>\n",
       "      <td>0x80c2c98c0e3c16fd:0x29ec8a728764fdf9</td>\n",
       "      <td>None</td>\n",
       "      <td>34.018891</td>\n",
       "      <td>-118.215290</td>\n",
       "      <td>[Textile exporter]</td>\n",
       "      <td>4.5</td>\n",
       "      <td>6</td>\n",
       "      <td>None</td>\n",
       "      <td>None</td>\n",
       "      <td>None</td>\n",
       "      <td>Open now</td>\n",
       "      <td>[0x80c2c624136ea88b:0xb0315367ed448771, 0x80c2...</td>\n",
       "      <td>https://www.google.com/maps/place//data=!4m2!3...</td>\n",
       "    </tr>\n",
       "    <tr>\n",
       "      <th>2</th>\n",
       "      <td>San Soo Dang</td>\n",
       "      <td>San Soo Dang, 761 S Vermont Ave, Los Angeles, ...</td>\n",
       "      <td>0x80c2c778e3b73d33:0xbdc58662a4a97d49</td>\n",
       "      <td>None</td>\n",
       "      <td>34.058092</td>\n",
       "      <td>-118.292130</td>\n",
       "      <td>[Korean restaurant]</td>\n",
       "      <td>4.4</td>\n",
       "      <td>18</td>\n",
       "      <td>None</td>\n",
       "      <td>[[Thursday, 6:30AM–6PM], [Friday, 6:30AM–6PM],...</td>\n",
       "      <td>{'Service options': ['Takeout', 'Dine-in', 'De...</td>\n",
       "      <td>Open ⋅ Closes 6PM</td>\n",
       "      <td>[0x80c2c78249aba68f:0x35bf16ce61be751d, 0x80c2...</td>\n",
       "      <td>https://www.google.com/maps/place//data=!4m2!3...</td>\n",
       "    </tr>\n",
       "    <tr>\n",
       "      <th>3</th>\n",
       "      <td>Nova Fabrics</td>\n",
       "      <td>Nova Fabrics, 2200 E 11th St, Los Angeles, CA ...</td>\n",
       "      <td>0x80c2c89923b27a41:0x32041559418d447</td>\n",
       "      <td>None</td>\n",
       "      <td>34.023669</td>\n",
       "      <td>-118.232930</td>\n",
       "      <td>[Fabric store]</td>\n",
       "      <td>3.3</td>\n",
       "      <td>6</td>\n",
       "      <td>None</td>\n",
       "      <td>[[Thursday, 9AM–5PM], [Friday, 9AM–5PM], [Satu...</td>\n",
       "      <td>{'Service options': ['In-store shopping'], 'Pa...</td>\n",
       "      <td>Open ⋅ Closes 5PM</td>\n",
       "      <td>[0x80c2c8811477253f:0x23a8a492df1918f7, 0x80c2...</td>\n",
       "      <td>https://www.google.com/maps/place//data=!4m2!3...</td>\n",
       "    </tr>\n",
       "    <tr>\n",
       "      <th>4</th>\n",
       "      <td>Nobel Textile Co</td>\n",
       "      <td>Nobel Textile Co, 719 E 9th St, Los Angeles, C...</td>\n",
       "      <td>0x80c2c632f933b073:0xc31785961fe826a6</td>\n",
       "      <td>None</td>\n",
       "      <td>34.036694</td>\n",
       "      <td>-118.249421</td>\n",
       "      <td>[Fabric store]</td>\n",
       "      <td>4.3</td>\n",
       "      <td>7</td>\n",
       "      <td>None</td>\n",
       "      <td>[[Thursday, 9AM–5PM], [Friday, 9AM–5PM], [Satu...</td>\n",
       "      <td>{'Service options': ['In-store pickup']}</td>\n",
       "      <td>Open ⋅ Closes 5PM</td>\n",
       "      <td>[0x80c2c62c496083d1:0xdefa11317fe870a1, 0x80c2...</td>\n",
       "      <td>https://www.google.com/maps/place//data=!4m2!3...</td>\n",
       "    </tr>\n",
       "  </tbody>\n",
       "</table>\n",
       "</div>"
      ],
      "text/plain": [
       "               name                                            address   \n",
       "0   Porter Pharmacy  Porter Pharmacy, 129 N Second St, Cochran, GA ...  \\\n",
       "1      City Textile  City Textile, 3001 E Pico Blvd, Los Angeles, C...   \n",
       "2      San Soo Dang  San Soo Dang, 761 S Vermont Ave, Los Angeles, ...   \n",
       "3      Nova Fabrics  Nova Fabrics, 2200 E 11th St, Los Angeles, CA ...   \n",
       "4  Nobel Textile Co  Nobel Textile Co, 719 E 9th St, Los Angeles, C...   \n",
       "\n",
       "                                 gmap_id description   latitude   longitude   \n",
       "0  0x88f16e41928ff687:0x883dad4fd048e8f8        None  32.388300  -83.357100  \\\n",
       "1  0x80c2c98c0e3c16fd:0x29ec8a728764fdf9        None  34.018891 -118.215290   \n",
       "2  0x80c2c778e3b73d33:0xbdc58662a4a97d49        None  34.058092 -118.292130   \n",
       "3   0x80c2c89923b27a41:0x32041559418d447        None  34.023669 -118.232930   \n",
       "4  0x80c2c632f933b073:0xc31785961fe826a6        None  34.036694 -118.249421   \n",
       "\n",
       "              category  avg_rating  num_of_reviews price   \n",
       "0           [Pharmacy]         4.9              16  None  \\\n",
       "1   [Textile exporter]         4.5               6  None   \n",
       "2  [Korean restaurant]         4.4              18  None   \n",
       "3       [Fabric store]         3.3               6  None   \n",
       "4       [Fabric store]         4.3               7  None   \n",
       "\n",
       "                                               hours   \n",
       "0  [[Friday, 8AM–6PM], [Saturday, 8AM–12PM], [Sun...  \\\n",
       "1                                               None   \n",
       "2  [[Thursday, 6:30AM–6PM], [Friday, 6:30AM–6PM],...   \n",
       "3  [[Thursday, 9AM–5PM], [Friday, 9AM–5PM], [Satu...   \n",
       "4  [[Thursday, 9AM–5PM], [Friday, 9AM–5PM], [Satu...   \n",
       "\n",
       "                                                MISC              state   \n",
       "0  {'Service options': ['In-store shopping', 'Sam...  Open ⋅ Closes 6PM  \\\n",
       "1                                               None           Open now   \n",
       "2  {'Service options': ['Takeout', 'Dine-in', 'De...  Open ⋅ Closes 6PM   \n",
       "3  {'Service options': ['In-store shopping'], 'Pa...  Open ⋅ Closes 5PM   \n",
       "4           {'Service options': ['In-store pickup']}  Open ⋅ Closes 5PM   \n",
       "\n",
       "                                    relative_results   \n",
       "0  [0x88f16e41929435cf:0x5b2532a2885e9ef6, 0x88f1...  \\\n",
       "1  [0x80c2c624136ea88b:0xb0315367ed448771, 0x80c2...   \n",
       "2  [0x80c2c78249aba68f:0x35bf16ce61be751d, 0x80c2...   \n",
       "3  [0x80c2c8811477253f:0x23a8a492df1918f7, 0x80c2...   \n",
       "4  [0x80c2c62c496083d1:0xdefa11317fe870a1, 0x80c2...   \n",
       "\n",
       "                                                 url  \n",
       "0  https://www.google.com/maps/place//data=!4m2!3...  \n",
       "1  https://www.google.com/maps/place//data=!4m2!3...  \n",
       "2  https://www.google.com/maps/place//data=!4m2!3...  \n",
       "3  https://www.google.com/maps/place//data=!4m2!3...  \n",
       "4  https://www.google.com/maps/place//data=!4m2!3...  "
      ]
     },
     "execution_count": 6,
     "metadata": {},
     "output_type": "execute_result"
    }
   ],
   "source": [
    "dfmeta.head()"
   ]
  },
  {
   "cell_type": "code",
   "execution_count": 7,
   "metadata": {},
   "outputs": [
    {
     "name": "stdout",
     "output_type": "stream",
     "text": [
      "<class 'pandas.core.frame.DataFrame'>\n",
      "RangeIndex: 3025011 entries, 0 to 3025010\n",
      "Data columns (total 15 columns):\n",
      " #   Column            Dtype  \n",
      "---  ------            -----  \n",
      " 0   name              object \n",
      " 1   address           object \n",
      " 2   gmap_id           object \n",
      " 3   description       object \n",
      " 4   latitude          float64\n",
      " 5   longitude         float64\n",
      " 6   category          object \n",
      " 7   avg_rating        float64\n",
      " 8   num_of_reviews    int64  \n",
      " 9   price             object \n",
      " 10  hours             object \n",
      " 11  MISC              object \n",
      " 12  state             object \n",
      " 13  relative_results  object \n",
      " 14  url               object \n",
      "dtypes: float64(3), int64(1), object(11)\n",
      "memory usage: 346.2+ MB\n"
     ]
    }
   ],
   "source": [
    "dfmeta.info()"
   ]
  },
  {
   "cell_type": "code",
   "execution_count": 9,
   "metadata": {},
   "outputs": [],
   "source": [
    "# Define the list of gastronomic tags to filter on\n",
    "gastronomic_tags = ['food', 'restaurant', 'cafe', 'bar', 'Restaurant', 'Bar','Food']  # replace with your actual list of tags\n",
    "\n",
    "# As there are few shops without tags, they are going to be dropped\n",
    "dfmeta = dfmeta.dropna(subset=['category'])\n",
    "\n",
    "# Use a nested loop to check if any of the gastronomic tags are in the category list for each row\n",
    "is_gastronomic = []\n",
    "for categories in dfmeta['category']:\n",
    "    found_tag = False\n",
    "    for tag in categories:\n",
    "        if tag.lower() in gastronomic_tags:\n",
    "            found_tag = True\n",
    "            break\n",
    "    is_gastronomic.append(found_tag)\n",
    "\n",
    "# Filter the DataFrame based on this condition\n",
    "df_gastronomic = dfmeta[is_gastronomic]\n"
   ]
  },
  {
   "cell_type": "code",
   "execution_count": 10,
   "metadata": {},
   "outputs": [
    {
     "name": "stdout",
     "output_type": "stream",
     "text": [
      "<class 'pandas.core.frame.DataFrame'>\n",
      "Index: 139819 entries, 6 to 3025006\n",
      "Data columns (total 15 columns):\n",
      " #   Column            Non-Null Count   Dtype  \n",
      "---  ------            --------------   -----  \n",
      " 0   name              139819 non-null  object \n",
      " 1   address           139545 non-null  object \n",
      " 2   gmap_id           139819 non-null  object \n",
      " 3   description       43085 non-null   object \n",
      " 4   latitude          139819 non-null  float64\n",
      " 5   longitude         139819 non-null  float64\n",
      " 6   category          139819 non-null  object \n",
      " 7   avg_rating        139819 non-null  float64\n",
      " 8   num_of_reviews    139819 non-null  int64  \n",
      " 9   price             62125 non-null   object \n",
      " 10  hours             120941 non-null  object \n",
      " 11  MISC              138507 non-null  object \n",
      " 12  state             121776 non-null  object \n",
      " 13  relative_results  112994 non-null  object \n",
      " 14  url               139819 non-null  object \n",
      "dtypes: float64(3), int64(1), object(11)\n",
      "memory usage: 17.1+ MB\n"
     ]
    }
   ],
   "source": [
    "df_gastronomic.info()"
   ]
  },
  {
   "cell_type": "code",
   "execution_count": 11,
   "metadata": {},
   "outputs": [],
   "source": [
    "# Get the gmaps_ids of all unique shops in the dataset\n",
    "Google_Gastronomic_gmap_ids = df_gastronomic['gmap_id'].unique()"
   ]
  },
  {
   "cell_type": "markdown",
   "metadata": {},
   "source": [
    "### Reviews"
   ]
  },
  {
   "cell_type": "code",
   "execution_count": 42,
   "metadata": {},
   "outputs": [],
   "source": [
    "folder_path = './review-California/'\n",
    "dfmerge = pd.DataFrame()\n",
    "\n",
    "for file_name in os.listdir(folder_path):\n",
    "    if file_name.endswith('.json'):\n",
    "        file_path = os.path.join(folder_path, file_name)\n",
    "        dfaux = pd.read_json(file_path, lines=True)\n",
    "        dfmerge = pd.concat([dfmerge, dfaux], ignore_index=True)"
   ]
  },
  {
   "cell_type": "code",
   "execution_count": 43,
   "metadata": {},
   "outputs": [
    {
     "data": {
      "text/html": [
       "<div>\n",
       "<style scoped>\n",
       "    .dataframe tbody tr th:only-of-type {\n",
       "        vertical-align: middle;\n",
       "    }\n",
       "\n",
       "    .dataframe tbody tr th {\n",
       "        vertical-align: top;\n",
       "    }\n",
       "\n",
       "    .dataframe thead th {\n",
       "        text-align: right;\n",
       "    }\n",
       "</style>\n",
       "<table border=\"1\" class=\"dataframe\">\n",
       "  <thead>\n",
       "    <tr style=\"text-align: right;\">\n",
       "      <th></th>\n",
       "      <th>user_id</th>\n",
       "      <th>name</th>\n",
       "      <th>time</th>\n",
       "      <th>rating</th>\n",
       "      <th>text</th>\n",
       "      <th>pics</th>\n",
       "      <th>resp</th>\n",
       "      <th>gmap_id</th>\n",
       "    </tr>\n",
       "  </thead>\n",
       "  <tbody>\n",
       "    <tr>\n",
       "      <th>0</th>\n",
       "      <td>1.089912e+20</td>\n",
       "      <td>Song Ro</td>\n",
       "      <td>1609909927056</td>\n",
       "      <td>5</td>\n",
       "      <td>Love there korean rice cake.</td>\n",
       "      <td>None</td>\n",
       "      <td>None</td>\n",
       "      <td>0x80c2c778e3b73d33:0xbdc58662a4a97d49</td>\n",
       "    </tr>\n",
       "    <tr>\n",
       "      <th>1</th>\n",
       "      <td>1.112903e+20</td>\n",
       "      <td>Rafa Robles</td>\n",
       "      <td>1612849648663</td>\n",
       "      <td>5</td>\n",
       "      <td>Good very good</td>\n",
       "      <td>None</td>\n",
       "      <td>None</td>\n",
       "      <td>0x80c2c778e3b73d33:0xbdc58662a4a97d49</td>\n",
       "    </tr>\n",
       "    <tr>\n",
       "      <th>2</th>\n",
       "      <td>1.126404e+20</td>\n",
       "      <td>David Han</td>\n",
       "      <td>1583643882296</td>\n",
       "      <td>4</td>\n",
       "      <td>They make Korean traditional food very properly.</td>\n",
       "      <td>None</td>\n",
       "      <td>None</td>\n",
       "      <td>0x80c2c778e3b73d33:0xbdc58662a4a97d49</td>\n",
       "    </tr>\n",
       "    <tr>\n",
       "      <th>3</th>\n",
       "      <td>1.174403e+20</td>\n",
       "      <td>Anthony Kim</td>\n",
       "      <td>1551938216355</td>\n",
       "      <td>5</td>\n",
       "      <td>Short ribs are very delicious.</td>\n",
       "      <td>None</td>\n",
       "      <td>None</td>\n",
       "      <td>0x80c2c778e3b73d33:0xbdc58662a4a97d49</td>\n",
       "    </tr>\n",
       "    <tr>\n",
       "      <th>4</th>\n",
       "      <td>1.005808e+20</td>\n",
       "      <td>Mario Marzouk</td>\n",
       "      <td>1494910901933</td>\n",
       "      <td>5</td>\n",
       "      <td>Great food and prices the portions are large</td>\n",
       "      <td>None</td>\n",
       "      <td>None</td>\n",
       "      <td>0x80c2c778e3b73d33:0xbdc58662a4a97d49</td>\n",
       "    </tr>\n",
       "  </tbody>\n",
       "</table>\n",
       "</div>"
      ],
      "text/plain": [
       "        user_id           name           time  rating   \n",
       "0  1.089912e+20        Song Ro  1609909927056       5  \\\n",
       "1  1.112903e+20    Rafa Robles  1612849648663       5   \n",
       "2  1.126404e+20      David Han  1583643882296       4   \n",
       "3  1.174403e+20    Anthony Kim  1551938216355       5   \n",
       "4  1.005808e+20  Mario Marzouk  1494910901933       5   \n",
       "\n",
       "                                               text  pics  resp   \n",
       "0                      Love there korean rice cake.  None  None  \\\n",
       "1                                    Good very good  None  None   \n",
       "2  They make Korean traditional food very properly.  None  None   \n",
       "3                    Short ribs are very delicious.  None  None   \n",
       "4      Great food and prices the portions are large  None  None   \n",
       "\n",
       "                                 gmap_id  \n",
       "0  0x80c2c778e3b73d33:0xbdc58662a4a97d49  \n",
       "1  0x80c2c778e3b73d33:0xbdc58662a4a97d49  \n",
       "2  0x80c2c778e3b73d33:0xbdc58662a4a97d49  \n",
       "3  0x80c2c778e3b73d33:0xbdc58662a4a97d49  \n",
       "4  0x80c2c778e3b73d33:0xbdc58662a4a97d49  "
      ]
     },
     "execution_count": 43,
     "metadata": {},
     "output_type": "execute_result"
    }
   ],
   "source": [
    "dfmerge.head()"
   ]
  },
  {
   "cell_type": "code",
   "execution_count": 44,
   "metadata": {},
   "outputs": [
    {
     "name": "stdout",
     "output_type": "stream",
     "text": [
      "<class 'pandas.core.frame.DataFrame'>\n",
      "Index: 457506 entries, 24 to 2699965\n",
      "Data columns (total 8 columns):\n",
      " #   Column   Non-Null Count   Dtype  \n",
      "---  ------   --------------   -----  \n",
      " 0   user_id  457506 non-null  float64\n",
      " 1   name     457506 non-null  object \n",
      " 2   time     457506 non-null  int64  \n",
      " 3   rating   457506 non-null  int64  \n",
      " 4   text     258436 non-null  object \n",
      " 5   pics     19415 non-null   object \n",
      " 6   resp     28196 non-null   object \n",
      " 7   gmap_id  457506 non-null  object \n",
      "dtypes: float64(1), int64(2), object(5)\n",
      "memory usage: 31.4+ MB\n"
     ]
    }
   ],
   "source": [
    "# Filter the DataFrame based on Gastronomic ids\n",
    "df_state = dfmerge[dfmerge['gmap_id'].isin(Google_Gastronomic_gmap_ids)]\n",
    "df_state.info()"
   ]
  },
  {
   "cell_type": "code",
   "execution_count": 45,
   "metadata": {},
   "outputs": [],
   "source": [
    "df_state = df_state[['user_id','gmap_id','time','text']]"
   ]
  },
  {
   "cell_type": "code",
   "execution_count": 46,
   "metadata": {},
   "outputs": [
    {
     "data": {
      "text/html": [
       "<div>\n",
       "<style scoped>\n",
       "    .dataframe tbody tr th:only-of-type {\n",
       "        vertical-align: middle;\n",
       "    }\n",
       "\n",
       "    .dataframe tbody tr th {\n",
       "        vertical-align: top;\n",
       "    }\n",
       "\n",
       "    .dataframe thead th {\n",
       "        text-align: right;\n",
       "    }\n",
       "</style>\n",
       "<table border=\"1\" class=\"dataframe\">\n",
       "  <thead>\n",
       "    <tr style=\"text-align: right;\">\n",
       "      <th></th>\n",
       "      <th>user_id</th>\n",
       "      <th>gmap_id</th>\n",
       "      <th>time</th>\n",
       "      <th>text</th>\n",
       "      <th>review_id</th>\n",
       "    </tr>\n",
       "  </thead>\n",
       "  <tbody>\n",
       "    <tr>\n",
       "      <th>24</th>\n",
       "      <td>1.122388e+20</td>\n",
       "      <td>0x80dd2b4c8555edb7:0xfc33d65c4bdbef42</td>\n",
       "      <td>1618445569829</td>\n",
       "      <td>The chicken sandwich was delicious! There's de...</td>\n",
       "      <td>None</td>\n",
       "    </tr>\n",
       "    <tr>\n",
       "      <th>25</th>\n",
       "      <td>1.035179e+20</td>\n",
       "      <td>0x80dd2b4c8555edb7:0xfc33d65c4bdbef42</td>\n",
       "      <td>1630608645242</td>\n",
       "      <td>Love this place  fried garlic chicken was very...</td>\n",
       "      <td>None</td>\n",
       "    </tr>\n",
       "    <tr>\n",
       "      <th>26</th>\n",
       "      <td>1.168235e+20</td>\n",
       "      <td>0x80dd2b4c8555edb7:0xfc33d65c4bdbef42</td>\n",
       "      <td>1627784101757</td>\n",
       "      <td>엘에이에 살때 자주 먹었는데 당근 소스가 정말 맛있습니다. 근데 아쉽게도 라미라다점...</td>\n",
       "      <td>None</td>\n",
       "    </tr>\n",
       "    <tr>\n",
       "      <th>27</th>\n",
       "      <td>1.026110e+20</td>\n",
       "      <td>0x80dd2b4c8555edb7:0xfc33d65c4bdbef42</td>\n",
       "      <td>1615004626909</td>\n",
       "      <td>(Translated by Google) There is a different me...</td>\n",
       "      <td>None</td>\n",
       "    </tr>\n",
       "    <tr>\n",
       "      <th>28</th>\n",
       "      <td>1.064882e+20</td>\n",
       "      <td>0x80dd2b4c8555edb7:0xfc33d65c4bdbef42</td>\n",
       "      <td>1618518682924</td>\n",
       "      <td>None</td>\n",
       "      <td>None</td>\n",
       "    </tr>\n",
       "  </tbody>\n",
       "</table>\n",
       "</div>"
      ],
      "text/plain": [
       "         user_id                                gmap_id           time   \n",
       "24  1.122388e+20  0x80dd2b4c8555edb7:0xfc33d65c4bdbef42  1618445569829  \\\n",
       "25  1.035179e+20  0x80dd2b4c8555edb7:0xfc33d65c4bdbef42  1630608645242   \n",
       "26  1.168235e+20  0x80dd2b4c8555edb7:0xfc33d65c4bdbef42  1627784101757   \n",
       "27  1.026110e+20  0x80dd2b4c8555edb7:0xfc33d65c4bdbef42  1615004626909   \n",
       "28  1.064882e+20  0x80dd2b4c8555edb7:0xfc33d65c4bdbef42  1618518682924   \n",
       "\n",
       "                                                 text review_id  \n",
       "24  The chicken sandwich was delicious! There's de...      None  \n",
       "25  Love this place  fried garlic chicken was very...      None  \n",
       "26  엘에이에 살때 자주 먹었는데 당근 소스가 정말 맛있습니다. 근데 아쉽게도 라미라다점...      None  \n",
       "27  (Translated by Google) There is a different me...      None  \n",
       "28                                               None      None  "
      ]
     },
     "execution_count": 46,
     "metadata": {},
     "output_type": "execute_result"
    }
   ],
   "source": [
    "df_state['review_id'] = None\n",
    "\n",
    "df_state.head()"
   ]
  },
  {
   "cell_type": "code",
   "execution_count": 47,
   "metadata": {},
   "outputs": [
    {
     "name": "stdout",
     "output_type": "stream",
     "text": [
      "<class 'pandas.core.frame.DataFrame'>\n",
      "Index: 258436 entries, 24 to 2699961\n",
      "Data columns (total 5 columns):\n",
      " #   Column     Non-Null Count   Dtype  \n",
      "---  ------     --------------   -----  \n",
      " 0   user_id    258436 non-null  float64\n",
      " 1   gmap_id    258436 non-null  object \n",
      " 2   time       258436 non-null  int64  \n",
      " 3   text       258436 non-null  object \n",
      " 4   review_id  0 non-null       object \n",
      "dtypes: float64(1), int64(1), object(3)\n",
      "memory usage: 11.8+ MB\n"
     ]
    }
   ],
   "source": [
    "#There is no sense on analysing reviews without text\n",
    "df_state = df_state.dropna(subset=['text'])\n",
    "df_state.info()"
   ]
  },
  {
   "cell_type": "code",
   "execution_count": 48,
   "metadata": {},
   "outputs": [],
   "source": [
    "df_state.to_csv('reviews_california.csv',index = False)"
   ]
  },
  {
   "cell_type": "markdown",
   "metadata": {},
   "source": [
    "### Concat the Google REviews"
   ]
  },
  {
   "cell_type": "code",
   "execution_count": 49,
   "metadata": {},
   "outputs": [],
   "source": [
    "df_nevada = pd.read_csv('reviews_nevada.csv')\n",
    "df_california = pd.read_csv('reviews_california.csv')\n",
    "df_florida = pd.read_csv('reviews_florida.csv')\n",
    "df_ny = pd.read_csv('reviews_ny.csv')\n",
    "df_texas = pd.read_csv('reviews_texas.csv')\n",
    "\n",
    "df_google_reviews =  pd.concat([df_nevada, df_california, df_florida, df_ny,df_texas])"
   ]
  },
  {
   "cell_type": "markdown",
   "metadata": {},
   "source": [
    "# YELP"
   ]
  },
  {
   "cell_type": "markdown",
   "metadata": {},
   "source": [
    "## Business"
   ]
  },
  {
   "cell_type": "code",
   "execution_count": 4,
   "metadata": {},
   "outputs": [],
   "source": [
    "# Read the pickle file using read_pickle\n",
    "df_stores = pd.read_pickle('business.pkl')"
   ]
  },
  {
   "cell_type": "code",
   "execution_count": 6,
   "metadata": {},
   "outputs": [
    {
     "data": {
      "text/html": [
       "<div>\n",
       "<style scoped>\n",
       "    .dataframe tbody tr th:only-of-type {\n",
       "        vertical-align: middle;\n",
       "    }\n",
       "\n",
       "    .dataframe tbody tr th {\n",
       "        vertical-align: top;\n",
       "    }\n",
       "\n",
       "    .dataframe thead th {\n",
       "        text-align: right;\n",
       "    }\n",
       "</style>\n",
       "<table border=\"1\" class=\"dataframe\">\n",
       "  <thead>\n",
       "    <tr style=\"text-align: right;\">\n",
       "      <th></th>\n",
       "      <th>business_id</th>\n",
       "      <th>name</th>\n",
       "      <th>address</th>\n",
       "      <th>city</th>\n",
       "      <th>state</th>\n",
       "      <th>postal_code</th>\n",
       "      <th>latitude</th>\n",
       "      <th>longitude</th>\n",
       "      <th>stars</th>\n",
       "      <th>review_count</th>\n",
       "      <th>is_open</th>\n",
       "      <th>attributes</th>\n",
       "      <th>categories</th>\n",
       "      <th>hours</th>\n",
       "    </tr>\n",
       "  </thead>\n",
       "  <tbody>\n",
       "    <tr>\n",
       "      <th>0</th>\n",
       "      <td>Pns2l4eNsfO8kk83dixA6A</td>\n",
       "      <td>Abby Rappoport, LAC, CMQ</td>\n",
       "      <td>1616 Chapala St, Ste 2</td>\n",
       "      <td>Santa Barbara</td>\n",
       "      <td>NaN</td>\n",
       "      <td>93101</td>\n",
       "      <td>34.426679</td>\n",
       "      <td>-119.711197</td>\n",
       "      <td>5.0</td>\n",
       "      <td>7</td>\n",
       "      <td>0</td>\n",
       "      <td>{'ByAppointmentOnly': 'True'}</td>\n",
       "      <td>Doctors, Traditional Chinese Medicine, Naturop...</td>\n",
       "      <td>None</td>\n",
       "    </tr>\n",
       "    <tr>\n",
       "      <th>1</th>\n",
       "      <td>mpf3x-BjTdTEA3yCZrAYPw</td>\n",
       "      <td>The UPS Store</td>\n",
       "      <td>87 Grasso Plaza Shopping Center</td>\n",
       "      <td>Affton</td>\n",
       "      <td>NaN</td>\n",
       "      <td>63123</td>\n",
       "      <td>38.551126</td>\n",
       "      <td>-90.335695</td>\n",
       "      <td>3.0</td>\n",
       "      <td>15</td>\n",
       "      <td>1</td>\n",
       "      <td>{'BusinessAcceptsCreditCards': 'True'}</td>\n",
       "      <td>Shipping Centers, Local Services, Notaries, Ma...</td>\n",
       "      <td>{'Monday': '0:0-0:0', 'Tuesday': '8:0-18:30', ...</td>\n",
       "    </tr>\n",
       "    <tr>\n",
       "      <th>2</th>\n",
       "      <td>tUFrWirKiKi_TAnsVWINQQ</td>\n",
       "      <td>Target</td>\n",
       "      <td>5255 E Broadway Blvd</td>\n",
       "      <td>Tucson</td>\n",
       "      <td>NaN</td>\n",
       "      <td>85711</td>\n",
       "      <td>32.223236</td>\n",
       "      <td>-110.880452</td>\n",
       "      <td>3.5</td>\n",
       "      <td>22</td>\n",
       "      <td>0</td>\n",
       "      <td>{'BikeParking': 'True', 'BusinessAcceptsCredit...</td>\n",
       "      <td>Department Stores, Shopping, Fashion, Home &amp; G...</td>\n",
       "      <td>{'Monday': '8:0-22:0', 'Tuesday': '8:0-22:0', ...</td>\n",
       "    </tr>\n",
       "    <tr>\n",
       "      <th>3</th>\n",
       "      <td>MTSW4McQd7CbVtyjqoe9mw</td>\n",
       "      <td>St Honore Pastries</td>\n",
       "      <td>935 Race St</td>\n",
       "      <td>Philadelphia</td>\n",
       "      <td>CA</td>\n",
       "      <td>19107</td>\n",
       "      <td>39.955505</td>\n",
       "      <td>-75.155564</td>\n",
       "      <td>4.0</td>\n",
       "      <td>80</td>\n",
       "      <td>1</td>\n",
       "      <td>{'RestaurantsDelivery': 'False', 'OutdoorSeati...</td>\n",
       "      <td>Restaurants, Food, Bubble Tea, Coffee &amp; Tea, B...</td>\n",
       "      <td>{'Monday': '7:0-20:0', 'Tuesday': '7:0-20:0', ...</td>\n",
       "    </tr>\n",
       "    <tr>\n",
       "      <th>4</th>\n",
       "      <td>mWMc6_wTdE0EUBKIGXDVfA</td>\n",
       "      <td>Perkiomen Valley Brewery</td>\n",
       "      <td>101 Walnut St</td>\n",
       "      <td>Green Lane</td>\n",
       "      <td>MO</td>\n",
       "      <td>18054</td>\n",
       "      <td>40.338183</td>\n",
       "      <td>-75.471659</td>\n",
       "      <td>4.5</td>\n",
       "      <td>13</td>\n",
       "      <td>1</td>\n",
       "      <td>{'BusinessAcceptsCreditCards': 'True', 'Wheelc...</td>\n",
       "      <td>Brewpubs, Breweries, Food</td>\n",
       "      <td>{'Wednesday': '14:0-22:0', 'Thursday': '16:0-2...</td>\n",
       "    </tr>\n",
       "  </tbody>\n",
       "</table>\n",
       "</div>"
      ],
      "text/plain": [
       "              business_id                      name   \n",
       "0  Pns2l4eNsfO8kk83dixA6A  Abby Rappoport, LAC, CMQ  \\\n",
       "1  mpf3x-BjTdTEA3yCZrAYPw             The UPS Store   \n",
       "2  tUFrWirKiKi_TAnsVWINQQ                    Target   \n",
       "3  MTSW4McQd7CbVtyjqoe9mw        St Honore Pastries   \n",
       "4  mWMc6_wTdE0EUBKIGXDVfA  Perkiomen Valley Brewery   \n",
       "\n",
       "                           address           city state postal_code   \n",
       "0           1616 Chapala St, Ste 2  Santa Barbara   NaN       93101  \\\n",
       "1  87 Grasso Plaza Shopping Center         Affton   NaN       63123   \n",
       "2             5255 E Broadway Blvd         Tucson   NaN       85711   \n",
       "3                      935 Race St   Philadelphia    CA       19107   \n",
       "4                    101 Walnut St     Green Lane    MO       18054   \n",
       "\n",
       "    latitude   longitude stars review_count is_open   \n",
       "0  34.426679 -119.711197   5.0            7       0  \\\n",
       "1  38.551126  -90.335695   3.0           15       1   \n",
       "2  32.223236 -110.880452   3.5           22       0   \n",
       "3  39.955505  -75.155564   4.0           80       1   \n",
       "4  40.338183  -75.471659   4.5           13       1   \n",
       "\n",
       "                                          attributes   \n",
       "0                      {'ByAppointmentOnly': 'True'}  \\\n",
       "1             {'BusinessAcceptsCreditCards': 'True'}   \n",
       "2  {'BikeParking': 'True', 'BusinessAcceptsCredit...   \n",
       "3  {'RestaurantsDelivery': 'False', 'OutdoorSeati...   \n",
       "4  {'BusinessAcceptsCreditCards': 'True', 'Wheelc...   \n",
       "\n",
       "                                          categories   \n",
       "0  Doctors, Traditional Chinese Medicine, Naturop...  \\\n",
       "1  Shipping Centers, Local Services, Notaries, Ma...   \n",
       "2  Department Stores, Shopping, Fashion, Home & G...   \n",
       "3  Restaurants, Food, Bubble Tea, Coffee & Tea, B...   \n",
       "4                          Brewpubs, Breweries, Food   \n",
       "\n",
       "                                               hours  \n",
       "0                                               None  \n",
       "1  {'Monday': '0:0-0:0', 'Tuesday': '8:0-18:30', ...  \n",
       "2  {'Monday': '8:0-22:0', 'Tuesday': '8:0-22:0', ...  \n",
       "3  {'Monday': '7:0-20:0', 'Tuesday': '7:0-20:0', ...  \n",
       "4  {'Wednesday': '14:0-22:0', 'Thursday': '16:0-2...  "
      ]
     },
     "execution_count": 6,
     "metadata": {},
     "output_type": "execute_result"
    }
   ],
   "source": [
    "# Assuming your DataFrame is named 'df'\n",
    "df_stores = df_stores.iloc[:, :14]  # Select the first 15 columns using iloc\n",
    "df_stores.head()"
   ]
  },
  {
   "cell_type": "code",
   "execution_count": 7,
   "metadata": {},
   "outputs": [],
   "source": [
    "# Filtering the States of interest\n",
    "states = ['NV','TX','CA','FL','NY']\n",
    "\n",
    "df_stores = df_stores[df_stores['state'].isin(states)]"
   ]
  },
  {
   "cell_type": "code",
   "execution_count": 8,
   "metadata": {},
   "outputs": [],
   "source": [
    "# Define the list of gastronomic tags to filter on\n",
    "gastronomic_tags = ['food', 'restaurant', 'cafe', 'bar', 'Restaurant', 'Bar','Food']  # replace with your actual list of tags\n",
    "\n",
    "\n",
    "# Use a nested loop to check if any of the gastronomic tags are in the category list for each row\n",
    "is_gastronomic = []\n",
    "\n",
    "df_stores = df_stores.dropna(subset=['categories'])\n",
    "df_stores['categories'] = df_stores['categories'].apply(lambda x: x.replace(', ', ',').split(','))\n",
    "\n",
    "\n",
    "for categories in df_stores['categories']:\n",
    "    found_tag = False\n",
    "    for tag in categories:\n",
    "        if tag.lower() in gastronomic_tags:\n",
    "            found_tag = True\n",
    "            break\n",
    "    is_gastronomic.append(found_tag)\n",
    "\n",
    "# Filter the DataFrame based on this condition\n",
    "df_stores_food = df_stores[is_gastronomic]"
   ]
  },
  {
   "cell_type": "code",
   "execution_count": 9,
   "metadata": {},
   "outputs": [
    {
     "name": "stdout",
     "output_type": "stream",
     "text": [
      "<class 'pandas.core.frame.DataFrame'>\n",
      "Index: 7204 entries, 3 to 150321\n",
      "Data columns (total 14 columns):\n",
      " #   Column        Non-Null Count  Dtype \n",
      "---  ------        --------------  ----- \n",
      " 0   business_id   7204 non-null   object\n",
      " 1   name          7204 non-null   object\n",
      " 2   address       7204 non-null   object\n",
      " 3   city          7204 non-null   object\n",
      " 4   state         7204 non-null   object\n",
      " 5   postal_code   7204 non-null   object\n",
      " 6   latitude      7204 non-null   object\n",
      " 7   longitude     7204 non-null   object\n",
      " 8   stars         7204 non-null   object\n",
      " 9   review_count  7204 non-null   object\n",
      " 10  is_open       7204 non-null   object\n",
      " 11  attributes    7097 non-null   object\n",
      " 12  categories    7204 non-null   object\n",
      " 13  hours         6258 non-null   object\n",
      "dtypes: object(14)\n",
      "memory usage: 844.2+ KB\n"
     ]
    }
   ],
   "source": [
    "df_stores_food.info()"
   ]
  },
  {
   "cell_type": "code",
   "execution_count": 10,
   "metadata": {},
   "outputs": [
    {
     "data": {
      "text/plain": [
       "array(['MTSW4McQd7CbVtyjqoe9mw', '0bPLkL0QhhPO5kt1_EXmNQ',\n",
       "       'cVBxfMC4lp3DnocjYA3FHQ', ..., '0UqeZTDBdV0uY3wesbLvYQ',\n",
       "       'wVxXRFf10zTTAs11nr4xeA', 'AM7O0cwkxm6w_e0Q7-f9FQ'], dtype=object)"
      ]
     },
     "execution_count": 10,
     "metadata": {},
     "output_type": "execute_result"
    }
   ],
   "source": [
    "stores_ids = df_stores_food['business_id'].unique()\n",
    "\n",
    "stores_ids"
   ]
  },
  {
   "cell_type": "markdown",
   "metadata": {},
   "source": [
    "Now, we have all the business_id that belong to a gastronomic store located in one of the five states of interest."
   ]
  },
  {
   "cell_type": "markdown",
   "metadata": {},
   "source": [
    "## Reviews"
   ]
  },
  {
   "cell_type": "code",
   "execution_count": 2,
   "metadata": {},
   "outputs": [],
   "source": [
    "file_path = './review_yelp.json'\n",
    "# Specify the number of rows to read per batch (e.g., 250000 rows)\n",
    "batch_size = 250000\n",
    "\n",
    "# Create an empty list to store the loaded DataFrames\n",
    "dfs = []\n",
    "\n",
    "# Read the JSON file in batches using read_json with chunksize\n",
    "for chunk in pd.read_json(file_path, lines=True, chunksize=batch_size):\n",
    "    dfs.append(chunk)\n",
    "\n",
    "# Concatenate the list of DataFrames into a single DataFrame\n",
    "df = pd.concat(dfs, ignore_index=True)"
   ]
  },
  {
   "cell_type": "code",
   "execution_count": 3,
   "metadata": {},
   "outputs": [
    {
     "data": {
      "text/html": [
       "<div>\n",
       "<style scoped>\n",
       "    .dataframe tbody tr th:only-of-type {\n",
       "        vertical-align: middle;\n",
       "    }\n",
       "\n",
       "    .dataframe tbody tr th {\n",
       "        vertical-align: top;\n",
       "    }\n",
       "\n",
       "    .dataframe thead th {\n",
       "        text-align: right;\n",
       "    }\n",
       "</style>\n",
       "<table border=\"1\" class=\"dataframe\">\n",
       "  <thead>\n",
       "    <tr style=\"text-align: right;\">\n",
       "      <th></th>\n",
       "      <th>review_id</th>\n",
       "      <th>user_id</th>\n",
       "      <th>business_id</th>\n",
       "      <th>stars</th>\n",
       "      <th>useful</th>\n",
       "      <th>funny</th>\n",
       "      <th>cool</th>\n",
       "      <th>text</th>\n",
       "      <th>date</th>\n",
       "    </tr>\n",
       "  </thead>\n",
       "  <tbody>\n",
       "    <tr>\n",
       "      <th>0</th>\n",
       "      <td>KU_O5udG6zpxOg-VcAEodg</td>\n",
       "      <td>mh_-eMZ6K5RLWhZyISBhwA</td>\n",
       "      <td>XQfwVwDr-v0ZS3_CbbE5Xw</td>\n",
       "      <td>3</td>\n",
       "      <td>0</td>\n",
       "      <td>0</td>\n",
       "      <td>0</td>\n",
       "      <td>If you decide to eat here, just be aware it is...</td>\n",
       "      <td>2018-07-07 22:09:11</td>\n",
       "    </tr>\n",
       "    <tr>\n",
       "      <th>1</th>\n",
       "      <td>BiTunyQ73aT9WBnpR9DZGw</td>\n",
       "      <td>OyoGAe7OKpv6SyGZT5g77Q</td>\n",
       "      <td>7ATYjTIgM3jUlt4UM3IypQ</td>\n",
       "      <td>5</td>\n",
       "      <td>1</td>\n",
       "      <td>0</td>\n",
       "      <td>1</td>\n",
       "      <td>I've taken a lot of spin classes over the year...</td>\n",
       "      <td>2012-01-03 15:28:18</td>\n",
       "    </tr>\n",
       "    <tr>\n",
       "      <th>2</th>\n",
       "      <td>saUsX_uimxRlCVr67Z4Jig</td>\n",
       "      <td>8g_iMtfSiwikVnbP2etR0A</td>\n",
       "      <td>YjUWPpI6HXG530lwP-fb2A</td>\n",
       "      <td>3</td>\n",
       "      <td>0</td>\n",
       "      <td>0</td>\n",
       "      <td>0</td>\n",
       "      <td>Family diner. Had the buffet. Eclectic assortm...</td>\n",
       "      <td>2014-02-05 20:30:30</td>\n",
       "    </tr>\n",
       "    <tr>\n",
       "      <th>3</th>\n",
       "      <td>AqPFMleE6RsU23_auESxiA</td>\n",
       "      <td>_7bHUi9Uuf5__HHc_Q8guQ</td>\n",
       "      <td>kxX2SOes4o-D3ZQBkiMRfA</td>\n",
       "      <td>5</td>\n",
       "      <td>1</td>\n",
       "      <td>0</td>\n",
       "      <td>1</td>\n",
       "      <td>Wow!  Yummy, different,  delicious.   Our favo...</td>\n",
       "      <td>2015-01-04 00:01:03</td>\n",
       "    </tr>\n",
       "    <tr>\n",
       "      <th>4</th>\n",
       "      <td>Sx8TMOWLNuJBWer-0pcmoA</td>\n",
       "      <td>bcjbaE6dDog4jkNY91ncLQ</td>\n",
       "      <td>e4Vwtrqf-wpJfwesgvdgxQ</td>\n",
       "      <td>4</td>\n",
       "      <td>1</td>\n",
       "      <td>0</td>\n",
       "      <td>1</td>\n",
       "      <td>Cute interior and owner (?) gave us tour of up...</td>\n",
       "      <td>2017-01-14 20:54:15</td>\n",
       "    </tr>\n",
       "  </tbody>\n",
       "</table>\n",
       "</div>"
      ],
      "text/plain": [
       "                review_id                 user_id             business_id   \n",
       "0  KU_O5udG6zpxOg-VcAEodg  mh_-eMZ6K5RLWhZyISBhwA  XQfwVwDr-v0ZS3_CbbE5Xw  \\\n",
       "1  BiTunyQ73aT9WBnpR9DZGw  OyoGAe7OKpv6SyGZT5g77Q  7ATYjTIgM3jUlt4UM3IypQ   \n",
       "2  saUsX_uimxRlCVr67Z4Jig  8g_iMtfSiwikVnbP2etR0A  YjUWPpI6HXG530lwP-fb2A   \n",
       "3  AqPFMleE6RsU23_auESxiA  _7bHUi9Uuf5__HHc_Q8guQ  kxX2SOes4o-D3ZQBkiMRfA   \n",
       "4  Sx8TMOWLNuJBWer-0pcmoA  bcjbaE6dDog4jkNY91ncLQ  e4Vwtrqf-wpJfwesgvdgxQ   \n",
       "\n",
       "   stars  useful  funny  cool   \n",
       "0      3       0      0     0  \\\n",
       "1      5       1      0     1   \n",
       "2      3       0      0     0   \n",
       "3      5       1      0     1   \n",
       "4      4       1      0     1   \n",
       "\n",
       "                                                text                date  \n",
       "0  If you decide to eat here, just be aware it is... 2018-07-07 22:09:11  \n",
       "1  I've taken a lot of spin classes over the year... 2012-01-03 15:28:18  \n",
       "2  Family diner. Had the buffet. Eclectic assortm... 2014-02-05 20:30:30  \n",
       "3  Wow!  Yummy, different,  delicious.   Our favo... 2015-01-04 00:01:03  \n",
       "4  Cute interior and owner (?) gave us tour of up... 2017-01-14 20:54:15  "
      ]
     },
     "execution_count": 3,
     "metadata": {},
     "output_type": "execute_result"
    }
   ],
   "source": [
    "df.head()"
   ]
  },
  {
   "cell_type": "code",
   "execution_count": 11,
   "metadata": {},
   "outputs": [
    {
     "name": "stdout",
     "output_type": "stream",
     "text": [
      "<class 'pandas.core.frame.DataFrame'>\n",
      "RangeIndex: 6990280 entries, 0 to 6990279\n",
      "Data columns (total 9 columns):\n",
      " #   Column       Dtype         \n",
      "---  ------       -----         \n",
      " 0   review_id    object        \n",
      " 1   user_id      object        \n",
      " 2   business_id  object        \n",
      " 3   stars        int64         \n",
      " 4   useful       int64         \n",
      " 5   funny        int64         \n",
      " 6   cool         int64         \n",
      " 7   text         object        \n",
      " 8   date         datetime64[ns]\n",
      "dtypes: datetime64[ns](1), int64(4), object(4)\n",
      "memory usage: 480.0+ MB\n"
     ]
    }
   ],
   "source": [
    "df.info()"
   ]
  },
  {
   "cell_type": "markdown",
   "metadata": {},
   "source": [
    "Initially, we have up to 6.9 Millon reviews"
   ]
  },
  {
   "cell_type": "code",
   "execution_count": 12,
   "metadata": {},
   "outputs": [
    {
     "name": "stdout",
     "output_type": "stream",
     "text": [
      "<class 'pandas.core.frame.DataFrame'>\n",
      "Index: 474713 entries, 19 to 6990279\n",
      "Data columns (total 9 columns):\n",
      " #   Column       Non-Null Count   Dtype         \n",
      "---  ------       --------------   -----         \n",
      " 0   review_id    474713 non-null  object        \n",
      " 1   user_id      474713 non-null  object        \n",
      " 2   business_id  474713 non-null  object        \n",
      " 3   stars        474713 non-null  int64         \n",
      " 4   useful       474713 non-null  int64         \n",
      " 5   funny        474713 non-null  int64         \n",
      " 6   cool         474713 non-null  int64         \n",
      " 7   text         474713 non-null  object        \n",
      " 8   date         474713 non-null  datetime64[ns]\n",
      "dtypes: datetime64[ns](1), int64(4), object(4)\n",
      "memory usage: 36.2+ MB\n"
     ]
    }
   ],
   "source": [
    "filtered_df = df[df['business_id'].isin(stores_ids)]\n",
    "\n",
    "filtered_df.info()"
   ]
  },
  {
   "cell_type": "markdown",
   "metadata": {},
   "source": [
    "If we only get the reviews associated to the gastronomic stores, we have 470k reviews."
   ]
  },
  {
   "cell_type": "code",
   "execution_count": 13,
   "metadata": {},
   "outputs": [
    {
     "data": {
      "text/html": [
       "<div>\n",
       "<style scoped>\n",
       "    .dataframe tbody tr th:only-of-type {\n",
       "        vertical-align: middle;\n",
       "    }\n",
       "\n",
       "    .dataframe tbody tr th {\n",
       "        vertical-align: top;\n",
       "    }\n",
       "\n",
       "    .dataframe thead th {\n",
       "        text-align: right;\n",
       "    }\n",
       "</style>\n",
       "<table border=\"1\" class=\"dataframe\">\n",
       "  <thead>\n",
       "    <tr style=\"text-align: right;\">\n",
       "      <th></th>\n",
       "      <th>review_id</th>\n",
       "      <th>text</th>\n",
       "    </tr>\n",
       "  </thead>\n",
       "  <tbody>\n",
       "    <tr>\n",
       "      <th>19</th>\n",
       "      <td>Xs8Z8lmKkosqW5mw_sVAoA</td>\n",
       "      <td>My absolute favorite cafe in the city. Their b...</td>\n",
       "    </tr>\n",
       "    <tr>\n",
       "      <th>50</th>\n",
       "      <td>yCbzm_d4cHpfUX00Ljvgmg</td>\n",
       "      <td>We started with the artichoke dip, big mistake...</td>\n",
       "    </tr>\n",
       "    <tr>\n",
       "      <th>66</th>\n",
       "      <td>4KpIldEM-tdnrJLqYzRfZQ</td>\n",
       "      <td>I've only had the cannolis here but they are a...</td>\n",
       "    </tr>\n",
       "    <tr>\n",
       "      <th>89</th>\n",
       "      <td>r1tPwFMILy0COeEQ-B3YLw</td>\n",
       "      <td>I had the pleasure to meet with Ann today and ...</td>\n",
       "    </tr>\n",
       "    <tr>\n",
       "      <th>105</th>\n",
       "      <td>9IG9eB3K-RdIonPBuZ0psw</td>\n",
       "      <td>This is one of the busiest Chick fil A's I've ...</td>\n",
       "    </tr>\n",
       "  </tbody>\n",
       "</table>\n",
       "</div>"
      ],
      "text/plain": [
       "                  review_id                                               text\n",
       "19   Xs8Z8lmKkosqW5mw_sVAoA  My absolute favorite cafe in the city. Their b...\n",
       "50   yCbzm_d4cHpfUX00Ljvgmg  We started with the artichoke dip, big mistake...\n",
       "66   4KpIldEM-tdnrJLqYzRfZQ  I've only had the cannolis here but they are a...\n",
       "89   r1tPwFMILy0COeEQ-B3YLw  I had the pleasure to meet with Ann today and ...\n",
       "105  9IG9eB3K-RdIonPBuZ0psw  This is one of the busiest Chick fil A's I've ..."
      ]
     },
     "execution_count": 13,
     "metadata": {},
     "output_type": "execute_result"
    }
   ],
   "source": [
    "df_Topics = filtered_df[['review_id','text']]\n",
    "\n",
    "df_Topics.head()"
   ]
  },
  {
   "cell_type": "code",
   "execution_count": 14,
   "metadata": {},
   "outputs": [],
   "source": [
    "df_Topics.to_csv('reviews_text.csv')"
   ]
  },
  {
   "cell_type": "markdown",
   "metadata": {},
   "source": [
    "## Topic Modelling"
   ]
  },
  {
   "cell_type": "markdown",
   "metadata": {},
   "source": [
    "### Imports"
   ]
  },
  {
   "cell_type": "code",
   "execution_count": 33,
   "metadata": {},
   "outputs": [],
   "source": [
    "!pip install pyLDAvis -qq\n",
    "!pip install -qq -U gensim\n",
    "!pip install -U spacy -qq\n",
    "!pip install matplotlib -qq\n",
    "!pip install seaborn -qq\n",
    "\n",
    "!python -m spacy download en_core_web_md -qq\n"
   ]
  },
  {
   "cell_type": "code",
   "execution_count": 4,
   "metadata": {},
   "outputs": [],
   "source": [
    "import pandas as pd\n",
    "import matplotlib.pyplot as plt\n",
    "import seaborn as sns\n",
    "sns.set()\n",
    "import spacy\n",
    "import pyLDAvis.gensim_models\n",
    "pyLDAvis.enable_notebook()# Visualise inside a notebook\n",
    "#import en_core_web_md\n",
    "from gensim.corpora.dictionary import Dictionary\n",
    "from gensim.models import LdaMulticore\n",
    "from gensim.models import CoherenceModel"
   ]
  },
  {
   "cell_type": "markdown",
   "metadata": {},
   "source": [
    "## Preprocess the data"
   ]
  },
  {
   "cell_type": "markdown",
   "metadata": {},
   "source": [
    "#### Tokenization with Spacy Pipeline"
   ]
  },
  {
   "cell_type": "markdown",
   "metadata": {},
   "source": [
    "In this case, we are using an open-source software library called spaCy to prepare the data for analysis.\n",
    "\n",
    "Our pre-trained preprocessing model is 'en_core_web_md'. \n",
    "This model can be thought of as a pipeline. When you call it on a text or word, the text runs through a processing pipeline.\n",
    "1. The pipeline tokenizes the text if it isn't previously. \n",
    "2. Then, the tagger assigns Part-Of-Speech (POS) tags based on SpaCy's English language model to gain a variety of annotations. A POS tag (or part-of-speech tag) is a special label assigned to each token in a text corpus to indicate the type of token (is it an adjective? Punctuation? A verb? etc.) and often also other grammatical categories such as tense, number (plural/singular), symbols etc.\n",
    "It is possible to use the POS tags to preprocess the data by removing unwanted tags.\n",
    "3. parser\n",
    "4. Ner"
   ]
  },
  {
   "cell_type": "markdown",
   "metadata": {},
   "source": [
    "### Yelp"
   ]
  },
  {
   "cell_type": "code",
   "execution_count": 17,
   "metadata": {},
   "outputs": [],
   "source": [
    "# Our spaCy model:\n",
    "nlp = en_core_web_md.load()\n",
    "# Tags I want to remove from the text\n",
    "removal= ['ADV','PRON','CCONJ','PUNCT','PART','DET','ADP','SPACE', 'NUM', 'SYM']\n",
    "tokens = []\n",
    "for summary in nlp.pipe(df_Topics['text']):\n",
    "   proj_tok = [token.lemma_.lower() for token in summary if token.pos_ not in removal and not token.is_stop and token.is_alpha]\n",
    "   tokens.append(proj_tok)"
   ]
  },
  {
   "cell_type": "code",
   "execution_count": 19,
   "metadata": {},
   "outputs": [
    {
     "name": "stderr",
     "output_type": "stream",
     "text": [
      "C:\\Users\\Marco\\AppData\\Local\\Temp\\ipykernel_4604\\2526835185.py:1: SettingWithCopyWarning: \n",
      "A value is trying to be set on a copy of a slice from a DataFrame.\n",
      "Try using .loc[row_indexer,col_indexer] = value instead\n",
      "\n",
      "See the caveats in the documentation: https://pandas.pydata.org/pandas-docs/stable/user_guide/indexing.html#returning-a-view-versus-a-copy\n",
      "  df_Topics['tokens'] = tokens\n"
     ]
    },
    {
     "data": {
      "text/plain": [
       "19         [absolute, favorite, cafe, city, black, white,...\n",
       "50         [start, artichoke, dip, big, mistake, cold, ch...\n",
       "66         [cannolis, awesome, fill, order, filling, phen...\n",
       "89         [pleasure, meet, ann, today, helpful, positive...\n",
       "105        [busy, chick, fil, see, manage, quick, excepti...\n",
       "                                 ...                        \n",
       "6990197    [surprised, recent, negative, review, go, time...\n",
       "6990202    [pastry, house, wait, try, try, salmon, brie, ...\n",
       "6990214    [fiddlehead, fern, cafe, keep, get, well, well...\n",
       "6990243    [favorite, place, pick, sport, supplement, nee...\n",
       "6990279    [locate, walking, district, nashville, bit, wa...\n",
       "Name: tokens, Length: 474713, dtype: object"
      ]
     },
     "execution_count": 19,
     "metadata": {},
     "output_type": "execute_result"
    }
   ],
   "source": [
    "df_Topics['tokens'] = tokens\n",
    "df_Topics['tokens']"
   ]
  },
  {
   "cell_type": "code",
   "execution_count": 27,
   "metadata": {},
   "outputs": [],
   "source": [
    "df_Topics.to_csv('reviews_text_tokens.csv')"
   ]
  },
  {
   "cell_type": "code",
   "execution_count": 26,
   "metadata": {},
   "outputs": [
    {
     "name": "stdout",
     "output_type": "stream",
     "text": [
      "<class 'pandas.core.frame.DataFrame'>\n",
      "Index: 474713 entries, 19 to 6990279\n",
      "Data columns (total 3 columns):\n",
      " #   Column     Non-Null Count   Dtype \n",
      "---  ------     --------------   ----- \n",
      " 0   review_id  474713 non-null  object\n",
      " 1   text       474713 non-null  object\n",
      " 2   tokens     474713 non-null  object\n",
      "dtypes: object(3)\n",
      "memory usage: 14.5+ MB\n"
     ]
    }
   ],
   "source": [
    "df_Topics.info()"
   ]
  },
  {
   "cell_type": "code",
   "execution_count": 28,
   "metadata": {},
   "outputs": [
    {
     "name": "stdout",
     "output_type": "stream",
     "text": [
      "<class 'pandas.core.frame.DataFrame'>\n",
      "RangeIndex: 474713 entries, 0 to 474712\n",
      "Data columns (total 4 columns):\n",
      " #   Column      Non-Null Count   Dtype \n",
      "---  ------      --------------   ----- \n",
      " 0   Unnamed: 0  474713 non-null  int64 \n",
      " 1   review_id   474713 non-null  object\n",
      " 2   text        474713 non-null  object\n",
      " 3   tokens      474713 non-null  object\n",
      "dtypes: int64(1), object(3)\n",
      "memory usage: 14.5+ MB\n"
     ]
    }
   ],
   "source": [
    "df_check = pd.read_csv('reviews_text_tokens.csv')\n",
    "df_check.info()"
   ]
  },
  {
   "cell_type": "code",
   "execution_count": 29,
   "metadata": {},
   "outputs": [
    {
     "data": {
      "text/html": [
       "<div>\n",
       "<style scoped>\n",
       "    .dataframe tbody tr th:only-of-type {\n",
       "        vertical-align: middle;\n",
       "    }\n",
       "\n",
       "    .dataframe tbody tr th {\n",
       "        vertical-align: top;\n",
       "    }\n",
       "\n",
       "    .dataframe thead th {\n",
       "        text-align: right;\n",
       "    }\n",
       "</style>\n",
       "<table border=\"1\" class=\"dataframe\">\n",
       "  <thead>\n",
       "    <tr style=\"text-align: right;\">\n",
       "      <th></th>\n",
       "      <th>Unnamed: 0</th>\n",
       "      <th>review_id</th>\n",
       "      <th>text</th>\n",
       "      <th>tokens</th>\n",
       "    </tr>\n",
       "  </thead>\n",
       "  <tbody>\n",
       "    <tr>\n",
       "      <th>0</th>\n",
       "      <td>19</td>\n",
       "      <td>Xs8Z8lmKkosqW5mw_sVAoA</td>\n",
       "      <td>My absolute favorite cafe in the city. Their b...</td>\n",
       "      <td>['absolute', 'favorite', 'cafe', 'city', 'blac...</td>\n",
       "    </tr>\n",
       "    <tr>\n",
       "      <th>1</th>\n",
       "      <td>50</td>\n",
       "      <td>yCbzm_d4cHpfUX00Ljvgmg</td>\n",
       "      <td>We started with the artichoke dip, big mistake...</td>\n",
       "      <td>['start', 'artichoke', 'dip', 'big', 'mistake'...</td>\n",
       "    </tr>\n",
       "    <tr>\n",
       "      <th>2</th>\n",
       "      <td>66</td>\n",
       "      <td>4KpIldEM-tdnrJLqYzRfZQ</td>\n",
       "      <td>I've only had the cannolis here but they are a...</td>\n",
       "      <td>['cannolis', 'awesome', 'fill', 'order', 'fill...</td>\n",
       "    </tr>\n",
       "    <tr>\n",
       "      <th>3</th>\n",
       "      <td>89</td>\n",
       "      <td>r1tPwFMILy0COeEQ-B3YLw</td>\n",
       "      <td>I had the pleasure to meet with Ann today and ...</td>\n",
       "      <td>['pleasure', 'meet', 'ann', 'today', 'helpful'...</td>\n",
       "    </tr>\n",
       "    <tr>\n",
       "      <th>4</th>\n",
       "      <td>105</td>\n",
       "      <td>9IG9eB3K-RdIonPBuZ0psw</td>\n",
       "      <td>This is one of the busiest Chick fil A's I've ...</td>\n",
       "      <td>['busy', 'chick', 'fil', 'see', 'manage', 'qui...</td>\n",
       "    </tr>\n",
       "  </tbody>\n",
       "</table>\n",
       "</div>"
      ],
      "text/plain": [
       "   Unnamed: 0               review_id   \n",
       "0          19  Xs8Z8lmKkosqW5mw_sVAoA  \\\n",
       "1          50  yCbzm_d4cHpfUX00Ljvgmg   \n",
       "2          66  4KpIldEM-tdnrJLqYzRfZQ   \n",
       "3          89  r1tPwFMILy0COeEQ-B3YLw   \n",
       "4         105  9IG9eB3K-RdIonPBuZ0psw   \n",
       "\n",
       "                                                text   \n",
       "0  My absolute favorite cafe in the city. Their b...  \\\n",
       "1  We started with the artichoke dip, big mistake...   \n",
       "2  I've only had the cannolis here but they are a...   \n",
       "3  I had the pleasure to meet with Ann today and ...   \n",
       "4  This is one of the busiest Chick fil A's I've ...   \n",
       "\n",
       "                                              tokens  \n",
       "0  ['absolute', 'favorite', 'cafe', 'city', 'blac...  \n",
       "1  ['start', 'artichoke', 'dip', 'big', 'mistake'...  \n",
       "2  ['cannolis', 'awesome', 'fill', 'order', 'fill...  \n",
       "3  ['pleasure', 'meet', 'ann', 'today', 'helpful'...  \n",
       "4  ['busy', 'chick', 'fil', 'see', 'manage', 'qui...  "
      ]
     },
     "execution_count": 29,
     "metadata": {},
     "output_type": "execute_result"
    }
   ],
   "source": [
    "df_check.head()"
   ]
  },
  {
   "cell_type": "markdown",
   "metadata": {},
   "source": [
    "### Google"
   ]
  },
  {
   "cell_type": "code",
   "execution_count": 55,
   "metadata": {},
   "outputs": [
    {
     "name": "stdout",
     "output_type": "stream",
     "text": [
      "<class 'pandas.core.frame.DataFrame'>\n",
      "Index: 1126407 entries, 0 to 190236\n",
      "Data columns (total 5 columns):\n",
      " #   Column     Non-Null Count    Dtype  \n",
      "---  ------     --------------    -----  \n",
      " 0   user_id    1126407 non-null  float64\n",
      " 1   gmap_id    1126407 non-null  object \n",
      " 2   time       1126407 non-null  int64  \n",
      " 3   text       1126407 non-null  object \n",
      " 4   review_id  0 non-null        float64\n",
      "dtypes: float64(2), int64(1), object(2)\n",
      "memory usage: 51.6+ MB\n"
     ]
    }
   ],
   "source": [
    "#There is no sense on analysing reviews without text\n",
    "df_google_reviews = df_google_reviews.dropna(subset=['text'])\n",
    "df_google_reviews.info()"
   ]
  },
  {
   "cell_type": "code",
   "execution_count": 56,
   "metadata": {},
   "outputs": [],
   "source": [
    "# Our spaCy model:\n",
    "nlp = en_core_web_md.load()\n",
    "# Tags I want to remove from the text\n",
    "removal= ['ADV','PRON','CCONJ','PUNCT','PART','DET','ADP','SPACE', 'NUM', 'SYM']\n",
    "tokens = []\n",
    "for summary in nlp.pipe(df_google_reviews['text']):\n",
    "   proj_tok = [token.lemma_.lower() for token in summary if token.pos_ not in removal and not token.is_stop and token.is_alpha]\n",
    "   tokens.append(proj_tok)"
   ]
  },
  {
   "cell_type": "code",
   "execution_count": 57,
   "metadata": {},
   "outputs": [
    {
     "data": {
      "text/plain": [
       "0         [surprised, taco, bit, small, quality, worth, ...\n",
       "1         [let, tell, awhiiiiiile, find, good, taco, pla...\n",
       "2         [translate, google, great, food, hotdog, luxur...\n",
       "3                                                    [know]\n",
       "4                                              [good, deal]\n",
       "                                ...                        \n",
       "190232    [translate, google, excellent, customer, servi...\n",
       "190233       [translate, google, rich, original, riquísimo]\n",
       "190234    [translate, google, good, staff, attention, th...\n",
       "190235    [translate, google, best, taco, water, origina...\n",
       "190236    [translate, google, good, taco, original, buen...\n",
       "Name: tokens, Length: 1126407, dtype: object"
      ]
     },
     "execution_count": 57,
     "metadata": {},
     "output_type": "execute_result"
    }
   ],
   "source": [
    "df_google_reviews['tokens'] = tokens\n",
    "df_google_reviews['tokens']"
   ]
  },
  {
   "cell_type": "code",
   "execution_count": 58,
   "metadata": {},
   "outputs": [],
   "source": [
    "df_google_reviews.to_csv('reviews_google_text_tokens.csv')"
   ]
  },
  {
   "cell_type": "code",
   "execution_count": 59,
   "metadata": {},
   "outputs": [
    {
     "name": "stdout",
     "output_type": "stream",
     "text": [
      "<class 'pandas.core.frame.DataFrame'>\n",
      "Index: 1126407 entries, 0 to 190236\n",
      "Data columns (total 6 columns):\n",
      " #   Column     Non-Null Count    Dtype  \n",
      "---  ------     --------------    -----  \n",
      " 0   user_id    1126407 non-null  float64\n",
      " 1   gmap_id    1126407 non-null  object \n",
      " 2   time       1126407 non-null  int64  \n",
      " 3   text       1126407 non-null  object \n",
      " 4   review_id  0 non-null        float64\n",
      " 5   tokens     1126407 non-null  object \n",
      "dtypes: float64(2), int64(1), object(3)\n",
      "memory usage: 60.2+ MB\n"
     ]
    }
   ],
   "source": [
    "df_google_reviews.info()"
   ]
  },
  {
   "cell_type": "markdown",
   "metadata": {},
   "source": [
    "### Unify df"
   ]
  },
  {
   "cell_type": "code",
   "execution_count": 5,
   "metadata": {},
   "outputs": [],
   "source": [
    "df_google = pd.read_csv('reviews_google_text_tokens.csv')\n",
    "df_yelp = pd.read_csv('reviews_text_tokens.csv')"
   ]
  },
  {
   "cell_type": "code",
   "execution_count": 9,
   "metadata": {},
   "outputs": [
    {
     "name": "stdout",
     "output_type": "stream",
     "text": [
      "<class 'pandas.core.frame.DataFrame'>\n",
      "RangeIndex: 474713 entries, 0 to 474712\n",
      "Data columns (total 6 columns):\n",
      " #   Column     Non-Null Count   Dtype \n",
      "---  ------     --------------   ----- \n",
      " 0   review_id  474713 non-null  object\n",
      " 1   text       0 non-null       object\n",
      " 2   tokens     474713 non-null  object\n",
      " 3   user_id    0 non-null       object\n",
      " 4   gmap_id    0 non-null       object\n",
      " 5   time       0 non-null       object\n",
      "dtypes: object(6)\n",
      "memory usage: 21.7+ MB\n"
     ]
    }
   ],
   "source": [
    "df_yelp[['user_id','gmap_id','time','text']] = None\n",
    "df_yelp.drop('Unnamed: 0', axis=1, inplace=True)\n",
    "df_yelp.info()"
   ]
  },
  {
   "cell_type": "code",
   "execution_count": 15,
   "metadata": {},
   "outputs": [
    {
     "data": {
      "text/html": [
       "<div>\n",
       "<style scoped>\n",
       "    .dataframe tbody tr th:only-of-type {\n",
       "        vertical-align: middle;\n",
       "    }\n",
       "\n",
       "    .dataframe tbody tr th {\n",
       "        vertical-align: top;\n",
       "    }\n",
       "\n",
       "    .dataframe thead th {\n",
       "        text-align: right;\n",
       "    }\n",
       "</style>\n",
       "<table border=\"1\" class=\"dataframe\">\n",
       "  <thead>\n",
       "    <tr style=\"text-align: right;\">\n",
       "      <th></th>\n",
       "      <th>review_id</th>\n",
       "      <th>text</th>\n",
       "      <th>tokens</th>\n",
       "      <th>user_id</th>\n",
       "      <th>gmap_id</th>\n",
       "      <th>time</th>\n",
       "    </tr>\n",
       "  </thead>\n",
       "  <tbody>\n",
       "    <tr>\n",
       "      <th>0</th>\n",
       "      <td>Xs8Z8lmKkosqW5mw_sVAoA</td>\n",
       "      <td>None</td>\n",
       "      <td>['absolute', 'favorite', 'cafe', 'city', 'blac...</td>\n",
       "      <td>None</td>\n",
       "      <td>None</td>\n",
       "      <td>None</td>\n",
       "    </tr>\n",
       "    <tr>\n",
       "      <th>1</th>\n",
       "      <td>yCbzm_d4cHpfUX00Ljvgmg</td>\n",
       "      <td>None</td>\n",
       "      <td>['start', 'artichoke', 'dip', 'big', 'mistake'...</td>\n",
       "      <td>None</td>\n",
       "      <td>None</td>\n",
       "      <td>None</td>\n",
       "    </tr>\n",
       "    <tr>\n",
       "      <th>2</th>\n",
       "      <td>4KpIldEM-tdnrJLqYzRfZQ</td>\n",
       "      <td>None</td>\n",
       "      <td>['cannolis', 'awesome', 'fill', 'order', 'fill...</td>\n",
       "      <td>None</td>\n",
       "      <td>None</td>\n",
       "      <td>None</td>\n",
       "    </tr>\n",
       "    <tr>\n",
       "      <th>3</th>\n",
       "      <td>r1tPwFMILy0COeEQ-B3YLw</td>\n",
       "      <td>None</td>\n",
       "      <td>['pleasure', 'meet', 'ann', 'today', 'helpful'...</td>\n",
       "      <td>None</td>\n",
       "      <td>None</td>\n",
       "      <td>None</td>\n",
       "    </tr>\n",
       "    <tr>\n",
       "      <th>4</th>\n",
       "      <td>9IG9eB3K-RdIonPBuZ0psw</td>\n",
       "      <td>None</td>\n",
       "      <td>['busy', 'chick', 'fil', 'see', 'manage', 'qui...</td>\n",
       "      <td>None</td>\n",
       "      <td>None</td>\n",
       "      <td>None</td>\n",
       "    </tr>\n",
       "  </tbody>\n",
       "</table>\n",
       "</div>"
      ],
      "text/plain": [
       "                review_id  text  \\\n",
       "0  Xs8Z8lmKkosqW5mw_sVAoA  None   \n",
       "1  yCbzm_d4cHpfUX00Ljvgmg  None   \n",
       "2  4KpIldEM-tdnrJLqYzRfZQ  None   \n",
       "3  r1tPwFMILy0COeEQ-B3YLw  None   \n",
       "4  9IG9eB3K-RdIonPBuZ0psw  None   \n",
       "\n",
       "                                              tokens user_id gmap_id  time  \n",
       "0  ['absolute', 'favorite', 'cafe', 'city', 'blac...    None    None  None  \n",
       "1  ['start', 'artichoke', 'dip', 'big', 'mistake'...    None    None  None  \n",
       "2  ['cannolis', 'awesome', 'fill', 'order', 'fill...    None    None  None  \n",
       "3  ['pleasure', 'meet', 'ann', 'today', 'helpful'...    None    None  None  \n",
       "4  ['busy', 'chick', 'fil', 'see', 'manage', 'qui...    None    None  None  "
      ]
     },
     "execution_count": 15,
     "metadata": {},
     "output_type": "execute_result"
    }
   ],
   "source": [
    "df_yelp.head()"
   ]
  },
  {
   "cell_type": "code",
   "execution_count": 11,
   "metadata": {},
   "outputs": [
    {
     "name": "stdout",
     "output_type": "stream",
     "text": [
      "<class 'pandas.core.frame.DataFrame'>\n",
      "RangeIndex: 1126407 entries, 0 to 1126406\n",
      "Data columns (total 6 columns):\n",
      " #   Column     Non-Null Count    Dtype  \n",
      "---  ------     --------------    -----  \n",
      " 0   user_id    1126407 non-null  float64\n",
      " 1   gmap_id    1126407 non-null  object \n",
      " 2   time       1126407 non-null  int64  \n",
      " 3   text       1126407 non-null  object \n",
      " 4   review_id  0 non-null        float64\n",
      " 5   tokens     1126407 non-null  object \n",
      "dtypes: float64(2), int64(1), object(3)\n",
      "memory usage: 51.6+ MB\n"
     ]
    }
   ],
   "source": [
    "df_google.drop('Unnamed: 0', axis=1, inplace=True)\n",
    "df_google.info()"
   ]
  },
  {
   "cell_type": "code",
   "execution_count": 12,
   "metadata": {},
   "outputs": [
    {
     "name": "stdout",
     "output_type": "stream",
     "text": [
      "<class 'pandas.core.frame.DataFrame'>\n",
      "Int64Index: 1601120 entries, 0 to 474712\n",
      "Data columns (total 6 columns):\n",
      " #   Column     Non-Null Count    Dtype  \n",
      "---  ------     --------------    -----  \n",
      " 0   user_id    1126407 non-null  float64\n",
      " 1   gmap_id    1126407 non-null  object \n",
      " 2   time       1126407 non-null  object \n",
      " 3   text       1126407 non-null  object \n",
      " 4   review_id  474713 non-null   object \n",
      " 5   tokens     1601120 non-null  object \n",
      "dtypes: float64(1), object(5)\n",
      "memory usage: 85.5+ MB\n"
     ]
    }
   ],
   "source": [
    "df_Topics =  pd.concat([df_google, df_yelp])\n",
    "df_Topics.info()"
   ]
  },
  {
   "cell_type": "code",
   "execution_count": 14,
   "metadata": {},
   "outputs": [
    {
     "data": {
      "text/html": [
       "<div>\n",
       "<style scoped>\n",
       "    .dataframe tbody tr th:only-of-type {\n",
       "        vertical-align: middle;\n",
       "    }\n",
       "\n",
       "    .dataframe tbody tr th {\n",
       "        vertical-align: top;\n",
       "    }\n",
       "\n",
       "    .dataframe thead th {\n",
       "        text-align: right;\n",
       "    }\n",
       "</style>\n",
       "<table border=\"1\" class=\"dataframe\">\n",
       "  <thead>\n",
       "    <tr style=\"text-align: right;\">\n",
       "      <th></th>\n",
       "      <th>user_id</th>\n",
       "      <th>gmap_id</th>\n",
       "      <th>time</th>\n",
       "      <th>text</th>\n",
       "      <th>review_id</th>\n",
       "      <th>tokens</th>\n",
       "    </tr>\n",
       "  </thead>\n",
       "  <tbody>\n",
       "    <tr>\n",
       "      <th>0</th>\n",
       "      <td>1.171482e+20</td>\n",
       "      <td>0x80c8c10f727e3ae1:0x9085c8978a7b1813</td>\n",
       "      <td>1629818960976</td>\n",
       "      <td>Pleasantly surprised. Although the tacos were ...</td>\n",
       "      <td>NaN</td>\n",
       "      <td>['surprised', 'taco', 'bit', 'small', 'quality...</td>\n",
       "    </tr>\n",
       "    <tr>\n",
       "      <th>1</th>\n",
       "      <td>1.076706e+20</td>\n",
       "      <td>0x80c8c10f727e3ae1:0x9085c8978a7b1813</td>\n",
       "      <td>1620676601002</td>\n",
       "      <td>Let me tell you. It has been awhiiiiiile since...</td>\n",
       "      <td>NaN</td>\n",
       "      <td>['let', 'tell', 'awhiiiiiile', 'find', 'good',...</td>\n",
       "    </tr>\n",
       "    <tr>\n",
       "      <th>2</th>\n",
       "      <td>1.147930e+20</td>\n",
       "      <td>0x80c8c10f727e3ae1:0x9085c8978a7b1813</td>\n",
       "      <td>1623033164008</td>\n",
       "      <td>(Translated by Google) Great food! Hotdogs are...</td>\n",
       "      <td>NaN</td>\n",
       "      <td>['translate', 'google', 'great', 'food', 'hotd...</td>\n",
       "    </tr>\n",
       "    <tr>\n",
       "      <th>3</th>\n",
       "      <td>1.167395e+20</td>\n",
       "      <td>0x80c8cf0fffffffff:0x4e446fa30178181b</td>\n",
       "      <td>1540621419682</td>\n",
       "      <td>Do not know where that is</td>\n",
       "      <td>NaN</td>\n",
       "      <td>['know']</td>\n",
       "    </tr>\n",
       "    <tr>\n",
       "      <th>4</th>\n",
       "      <td>1.114641e+20</td>\n",
       "      <td>0x80c8cf0fffffffff:0x4e446fa30178181b</td>\n",
       "      <td>1548950860628</td>\n",
       "      <td>Good deals</td>\n",
       "      <td>NaN</td>\n",
       "      <td>['good', 'deal']</td>\n",
       "    </tr>\n",
       "  </tbody>\n",
       "</table>\n",
       "</div>"
      ],
      "text/plain": [
       "        user_id                                gmap_id           time  \\\n",
       "0  1.171482e+20  0x80c8c10f727e3ae1:0x9085c8978a7b1813  1629818960976   \n",
       "1  1.076706e+20  0x80c8c10f727e3ae1:0x9085c8978a7b1813  1620676601002   \n",
       "2  1.147930e+20  0x80c8c10f727e3ae1:0x9085c8978a7b1813  1623033164008   \n",
       "3  1.167395e+20  0x80c8cf0fffffffff:0x4e446fa30178181b  1540621419682   \n",
       "4  1.114641e+20  0x80c8cf0fffffffff:0x4e446fa30178181b  1548950860628   \n",
       "\n",
       "                                                text review_id  \\\n",
       "0  Pleasantly surprised. Although the tacos were ...       NaN   \n",
       "1  Let me tell you. It has been awhiiiiiile since...       NaN   \n",
       "2  (Translated by Google) Great food! Hotdogs are...       NaN   \n",
       "3                          Do not know where that is       NaN   \n",
       "4                                         Good deals       NaN   \n",
       "\n",
       "                                              tokens  \n",
       "0  ['surprised', 'taco', 'bit', 'small', 'quality...  \n",
       "1  ['let', 'tell', 'awhiiiiiile', 'find', 'good',...  \n",
       "2  ['translate', 'google', 'great', 'food', 'hotd...  \n",
       "3                                           ['know']  \n",
       "4                                   ['good', 'deal']  "
      ]
     },
     "execution_count": 14,
     "metadata": {},
     "output_type": "execute_result"
    }
   ],
   "source": [
    "df_Topics.head()"
   ]
  },
  {
   "cell_type": "code",
   "execution_count": 47,
   "metadata": {},
   "outputs": [],
   "source": [
    "df_Topics.to_csv('reviews_GoogleYelp_text_tokens.csv')"
   ]
  },
  {
   "cell_type": "code",
   "execution_count": 17,
   "metadata": {},
   "outputs": [],
   "source": [
    "import ast\n",
    "\n",
    "# Assuming your dataframe is named 'df' and the column you want to convert is named 'my_column'\n",
    "df_Topics['tokens'] = df_Topics['tokens'].apply(ast.literal_eval)"
   ]
  },
  {
   "cell_type": "markdown",
   "metadata": {},
   "source": [
    "#### Create dictionary and corpus\n",
    "\n",
    "The two main inputs to the LDA topic model are the dictionary and the corpus:\n",
    "\n",
    "+ Dictionary: The idea of the dictionary is to give each token a unique ID.\n",
    "+ Corpus: Having assigned a unique ID to each token, the corpus simply contains each ID and its frequency (BoW)."
   ]
  },
  {
   "cell_type": "code",
   "execution_count": 18,
   "metadata": {},
   "outputs": [],
   "source": [
    "# I will apply the Dictionary Object from Gensim, which maps each word to their unique ID:\n",
    "dictionary = Dictionary(df_Topics['tokens'])"
   ]
  },
  {
   "cell_type": "markdown",
   "metadata": {},
   "source": [
    "Now, filtering out low-frequency and high-frequency tokens, also limit the vocabulary to a max of 1000 words:\n",
    "\n",
    "\n",
    "+ No_below: Tokens that appear in less than 5 documents are filtered out.\n",
    "+ No_above: Tokens that appear in more than 50% of the total corpus are also removed as default.\n",
    "+ Keep_n: We limit ourselves to the top 1000 most frequent tokens (default is 100.000). Set to ‘None’ if you want to keep all."
   ]
  },
  {
   "cell_type": "code",
   "execution_count": 19,
   "metadata": {},
   "outputs": [],
   "source": [
    "dictionary.filter_extremes(no_below=5, no_above=0.5, keep_n=1000)"
   ]
  },
  {
   "cell_type": "markdown",
   "metadata": {},
   "source": [
    "Now, it is possible to construct the corpus using the dictionary from above and the doc2bow function. The function doc2bow() simply counts the number of occurrences of each distinct word, converts the word to its integer word id and returns the result as a sparse vector:\n",
    "\n"
   ]
  },
  {
   "cell_type": "code",
   "execution_count": 20,
   "metadata": {},
   "outputs": [],
   "source": [
    "corpus = [dictionary.doc2bow(doc) for doc in df_Topics['tokens']]"
   ]
  },
  {
   "cell_type": "markdown",
   "metadata": {},
   "source": [
    "### Train Unsupervised ML\n",
    "\n",
    "The topic modelling algorithm analyzes the corpus in order to find the distribution of words in each topic and the distribution of topics in each document."
   ]
  },
  {
   "cell_type": "code",
   "execution_count": 21,
   "metadata": {},
   "outputs": [],
   "source": [
    "lda_model = LdaMulticore(corpus=corpus, id2word=dictionary, iterations=50, num_topics=10, workers = 4, passes=10)"
   ]
  },
  {
   "cell_type": "markdown",
   "metadata": {},
   "source": [
    "#### Define an Appropiate number of Topics\n",
    "\n",
    "A possible methodology to determine an appropiate number of topics is employing the coherence score.\n",
    "In this case, we will be working with C_v algorithm to calculate the coherence score.  The coherence score for C_v ranges from 0 (complete incoherence) to 1 (complete coherence). Values above 0.5 are fairly good, according to John McLevey (source: Doing Computational Social Science: A Practical Introduction By John McLevey)."
   ]
  },
  {
   "cell_type": "code",
   "execution_count": 23,
   "metadata": {},
   "outputs": [
    {
     "data": {
      "image/png": "[encoded data removed]",
      "text/plain": [
       "<Figure size 640x480 with 1 Axes>"
      ]
     },
     "metadata": {},
     "output_type": "display_data"
    }
   ],
   "source": [
    "topics = []\n",
    "score = []\n",
    "for i in range(1,20,1):\n",
    "   lda_model = LdaMulticore(corpus=corpus, id2word=dictionary, iterations=10, num_topics=i, workers = 6, passes=10, random_state=100)\n",
    "   cm = CoherenceModel(model=lda_model, texts = df_Topics['tokens'], corpus=corpus, dictionary=dictionary, coherence='c_v')\n",
    "   topics.append(i)\n",
    "   score.append(cm.get_coherence())\n",
    "_=plt.plot(topics, score)\n",
    "_=plt.xlabel('Number of Topics')\n",
    "_=plt.ylabel('Coherence Score')\n",
    "plt.show()"
   ]
  },
  {
   "cell_type": "markdown",
   "metadata": {},
   "source": [
    "Aparently, the better alternatives are between 8 and 11 topics"
   ]
  },
  {
   "cell_type": "markdown",
   "metadata": {},
   "source": [
    "##### 8 Topics LDA model"
   ]
  },
  {
   "cell_type": "code",
   "execution_count": 24,
   "metadata": {},
   "outputs": [],
   "source": [
    "# Model with 8 topics\n",
    "lda_model = LdaMulticore(corpus=corpus, id2word=dictionary, iterations=50, num_topics=8, workers = 6, passes=10)"
   ]
  },
  {
   "cell_type": "code",
   "execution_count": 25,
   "metadata": {},
   "outputs": [
    {
     "data": {
      "text/plain": [
       "[(0,\n",
       "  '0.168*\"great\" + 0.102*\"food\" + 0.071*\"service\" + 0.057*\"friendly\" + 0.047*\"staff\" + 0.045*\"place\" + 0.040*\"love\" + 0.032*\"amazing\" + 0.031*\"delicious\" + 0.028*\"excellent\"'),\n",
       " (1,\n",
       "  '0.026*\"come\" + 0.026*\"time\" + 0.025*\"table\" + 0.021*\"wait\" + 0.018*\"go\" + 0.018*\"food\" + 0.016*\"restaurant\" + 0.016*\"night\" + 0.013*\"server\" + 0.012*\"friend\"'),\n",
       " (2,\n",
       "  '0.116*\"original\" + 0.086*\"la\" + 0.076*\"google\" + 0.067*\"translate\" + 0.051*\"cuban\" + 0.050*\"de\" + 0.043*\"y\" + 0.041*\"el\" + 0.038*\"mi\" + 0.032*\"good\"'),\n",
       " (3,\n",
       "  '0.213*\"good\" + 0.155*\"food\" + 0.061*\"price\" + 0.060*\"service\" + 0.035*\"taco\" + 0.025*\"place\" + 0.022*\"bagel\" + 0.020*\"quality\" + 0.017*\"ok\" + 0.014*\"fast\"'),\n",
       " (4,\n",
       "  '0.028*\"good\" + 0.024*\"chicken\" + 0.019*\"order\" + 0.018*\"pizza\" + 0.017*\"salad\" + 0.017*\"sauce\" + 0.015*\"try\" + 0.013*\"place\" + 0.012*\"meat\" + 0.011*\"fresh\"'),\n",
       " (5,\n",
       "  '0.037*\"order\" + 0.023*\"time\" + 0.016*\"go\" + 0.015*\"ask\" + 0.014*\"say\" + 0.013*\"customer\" + 0.013*\"get\" + 0.013*\"service\" + 0.012*\"tell\" + 0.012*\"come\"'),\n",
       " (6,\n",
       "  '0.022*\"good\" + 0.020*\"burger\" + 0.019*\"cream\" + 0.019*\"try\" + 0.018*\"ice\" + 0.017*\"flavor\" + 0.016*\"sweet\" + 0.015*\"sandwich\" + 0.015*\"delicious\" + 0.015*\"tea\"'),\n",
       " (7,\n",
       "  '0.038*\"place\" + 0.028*\"great\" + 0.027*\"beer\" + 0.026*\"coffee\" + 0.021*\"good\" + 0.018*\"nice\" + 0.015*\"selection\" + 0.013*\"bar\" + 0.012*\"area\" + 0.012*\"drink\"')]"
      ]
     },
     "execution_count": 25,
     "metadata": {},
     "output_type": "execute_result"
    }
   ],
   "source": [
    "lda_model.print_topics(-1)"
   ]
  },
  {
   "cell_type": "markdown",
   "metadata": {},
   "source": [
    "**Topic Interpretation**\n",
    "From the above, we may understand the following topics:\n",
    "\n",
    "1. Topic 1: Customer Support\n",
    "2. Topic 2: Waiting time to have a Table or recieve the food\n",
    "3. Topic 3: Reviews in Spanish\n",
    "4. Topic 4: Good value for money restaurants\n",
    "5. Topic 5:\n",
    "6. Topic 6: Delays in ordering \n",
    "7. Topic 7: Nice Burger, Ice cream restaurants\n",
    "8. Topic 8: Nice Coffee and Beer bars"
   ]
  },
  {
   "cell_type": "code",
   "execution_count": 40,
   "metadata": {},
   "outputs": [
    {
     "data": {
      "text/plain": [
       "[(0, 0.5765381),\n",
       " (1, 0.02501846),\n",
       " (2, 0.02500567),\n",
       " (3, 0.025001893),\n",
       " (4, 0.025007643),\n",
       " (5, 0.27339765),\n",
       " (6, 0.0250117),\n",
       " (7, 0.025018906)]"
      ]
     },
     "execution_count": 40,
     "metadata": {},
     "output_type": "execute_result"
    }
   ],
   "source": [
    "# Test prediction\n",
    "test_review = 'Amazing staff, they were very friendly and kind answering our questions'\n",
    "test_tokens = ['Amazing', 'staff', 'friendly', 'kind' , 'question']\n",
    "test_tokens\n",
    "#test_dictionary = Dictionary(test_tokens.values())\n",
    "new_doc_bow = dictionary.doc2bow(test_tokens)\n",
    "lda_model.get_document_topics(new_doc_bow)\n"
   ]
  },
  {
   "cell_type": "markdown",
   "metadata": {},
   "source": [
    "##### 11 Topics LDA model"
   ]
  },
  {
   "cell_type": "code",
   "execution_count": 27,
   "metadata": {},
   "outputs": [],
   "source": [
    "# Model with 11 topics\n",
    "lda_model11 = LdaMulticore(corpus=corpus, id2word=dictionary, iterations=50, num_topics=11, workers = 6, passes=10)"
   ]
  },
  {
   "cell_type": "code",
   "execution_count": 28,
   "metadata": {},
   "outputs": [
    {
     "data": {
      "text/plain": [
       "[(0,\n",
       "  '0.140*\"friendly\" + 0.136*\"staff\" + 0.050*\"nice\" + 0.049*\"clean\" + 0.033*\"fresh\" + 0.029*\"vegan\" + 0.029*\"helpful\" + 0.028*\"food\" + 0.028*\"delicious\" + 0.028*\"bagel\"'),\n",
       " (1,\n",
       "  '0.047*\"place\" + 0.040*\"time\" + 0.031*\"good\" + 0.028*\"food\" + 0.025*\"amazing\" + 0.025*\"eat\" + 0.023*\"try\" + 0.022*\"come\" + 0.021*\"restaurant\" + 0.019*\"visit\"'),\n",
       " (2,\n",
       "  '0.147*\"love\" + 0.061*\"pizza\" + 0.045*\"store\" + 0.032*\"place\" + 0.019*\"find\" + 0.019*\"item\" + 0.017*\"buy\" + 0.016*\"pie\" + 0.014*\"grocery\" + 0.014*\"shop\"'),\n",
       " (3,\n",
       "  '0.036*\"order\" + 0.024*\"time\" + 0.019*\"wait\" + 0.018*\"food\" + 0.017*\"come\" + 0.017*\"go\" + 0.015*\"ask\" + 0.013*\"get\" + 0.013*\"say\" + 0.013*\"service\"'),\n",
       " (4,\n",
       "  '0.337*\"great\" + 0.140*\"food\" + 0.123*\"service\" + 0.057*\"excellent\" + 0.045*\"awesome\" + 0.037*\"atmosphere\" + 0.033*\"amazing\" + 0.027*\"place\" + 0.019*\"delicious\" + 0.016*\"customer\"'),\n",
       " (5,\n",
       "  '0.049*\"coffee\" + 0.025*\"cream\" + 0.023*\"ice\" + 0.022*\"good\" + 0.020*\"tea\" + 0.019*\"flavor\" + 0.016*\"cake\" + 0.016*\"try\" + 0.015*\"chocolate\" + 0.014*\"sweet\"'),\n",
       " (6,\n",
       "  '0.081*\"burger\" + 0.046*\"breakfast\" + 0.045*\"fry\" + 0.039*\"cheese\" + 0.034*\"egg\" + 0.026*\"bacon\" + 0.021*\"french\" + 0.019*\"toast\" + 0.017*\"steak\" + 0.017*\"brunch\"'),\n",
       " (7,\n",
       "  '0.213*\"good\" + 0.143*\"food\" + 0.107*\"price\" + 0.065*\"service\" + 0.025*\"quality\" + 0.023*\"place\" + 0.017*\"fast\" + 0.016*\"reasonable\" + 0.016*\"portion\" + 0.016*\"ok\"'),\n",
       " (8,\n",
       "  '0.105*\"original\" + 0.097*\"mexican\" + 0.078*\"la\" + 0.069*\"google\" + 0.061*\"translate\" + 0.046*\"de\" + 0.039*\"y\" + 0.037*\"el\" + 0.034*\"good\" + 0.034*\"mi\"'),\n",
       " (9,\n",
       "  '0.036*\"beer\" + 0.031*\"great\" + 0.030*\"place\" + 0.026*\"bar\" + 0.019*\"drink\" + 0.018*\"good\" + 0.017*\"nice\" + 0.016*\"wine\" + 0.013*\"night\" + 0.012*\"table\"'),\n",
       " (10,\n",
       "  '0.026*\"good\" + 0.026*\"chicken\" + 0.021*\"order\" + 0.020*\"sandwich\" + 0.018*\"salad\" + 0.018*\"sauce\" + 0.014*\"try\" + 0.012*\"cheese\" + 0.012*\"get\" + 0.011*\"delicious\"')]"
      ]
     },
     "execution_count": 28,
     "metadata": {},
     "output_type": "execute_result"
    }
   ],
   "source": [
    "lda_model11.print_topics(-1)"
   ]
  },
  {
   "cell_type": "markdown",
   "metadata": {},
   "source": [
    "From the above, we may understand the following topics:\n",
    "\n",
    "1. Topic 1: Customer Support and Clean Space\n",
    "2. Topic 2: \n",
    "3. Topic 3: Nice\n",
    "4. Topic 4: Waiting time to have a Table or recieve the food\n",
    "5. Topic 5: Customer Support and Clean Space\n",
    "6. Topic 6: Coffe and Ice Cream \n",
    "7. Topic 7: Breakfast place\n",
    "8. Topic 8: Good value for money\n",
    "9. Topic 9: Nice Latinoamerican restaurant\n",
    "10. Topic 10: Nice Beer and Wine Bars\n",
    "11. Topic 11: Nice chicken, fresh, sandwish store"
   ]
  },
  {
   "cell_type": "code",
   "execution_count": 42,
   "metadata": {},
   "outputs": [
    {
     "data": {
      "text/plain": [
       "[(0, 0.030303305),\n",
       " (1, 0.030303525),\n",
       " (2, 0.030304577),\n",
       " (3, 0.03030331),\n",
       " (4, 0.030303305),\n",
       " (5, 0.030303529),\n",
       " (6, 0.030303644),\n",
       " (7, 0.6969644),\n",
       " (8, 0.030303499),\n",
       " (9, 0.03030354),\n",
       " (10, 0.030303363)]"
      ]
     },
     "execution_count": 42,
     "metadata": {},
     "output_type": "execute_result"
    }
   ],
   "source": [
    "# Test prediction\n",
    "#test_review = 'Amazing staff, they were very friendly and kind answering our questions'\n",
    "#test_tokens = ['Amazing', 'staff', 'friendly', 'kind' , 'question']\n",
    "test_tokens = ['Afforable', 'quality', 'cheap', 'worthy' ]\n",
    "\n",
    "test_tokens\n",
    "#test_dictionary = Dictionary(test_tokens.values())\n",
    "new_doc_bow = dictionary.doc2bow(test_tokens)\n",
    "lda_model11.get_document_topics(new_doc_bow)"
   ]
  },
  {
   "cell_type": "code",
   "execution_count": 43,
   "metadata": {},
   "outputs": [],
   "source": [
    "# Save the trained model\n",
    "lda_model11.save('./lda_model_11topics')"
   ]
  },
  {
   "cell_type": "code",
   "execution_count": 46,
   "metadata": {},
   "outputs": [
    {
     "data": {
      "text/plain": [
       "[(0, 0.030303303),\n",
       " (1, 0.030303521),\n",
       " (2, 0.030304579),\n",
       " (3, 0.030303309),\n",
       " (4, 0.030303303),\n",
       " (5, 0.030303527),\n",
       " (6, 0.03030364),\n",
       " (7, 0.6969644),\n",
       " (8, 0.030303497),\n",
       " (9, 0.030303536),\n",
       " (10, 0.03030336)]"
      ]
     },
     "execution_count": 46,
     "metadata": {},
     "output_type": "execute_result"
    }
   ],
   "source": [
    "# Load and Check the model\n",
    "lda_model_loaded = LdaMulticore.load('./lda_model_11topics')\n",
    "\n",
    "# Test prediction\n",
    "#test_review = 'Amazing staff, they were very friendly and kind answering our questions'\n",
    "#test_tokens = ['Amazing', 'staff', 'friendly', 'kind' , 'question']\n",
    "test_tokens = ['Afforable', 'quality', 'cheap', 'worthy' ]\n",
    "\n",
    "test_tokens\n",
    "#test_dictionary = Dictionary(test_tokens.values())\n",
    "new_doc_bow = dictionary.doc2bow(test_tokens)\n",
    "lda_model_loaded.get_document_topics(new_doc_bow)"
   ]
  },
  {
   "cell_type": "markdown",
   "metadata": {},
   "source": [
    "## Minimal pipeline"
   ]
  },
  {
   "cell_type": "markdown",
   "metadata": {},
   "source": []
  }
 ],
 "metadata": {
  "kernelspec": {
   "display_name": "Python 3",
   "language": "python",
   "name": "python3"
  },
  "language_info": {
   "codemirror_mode": {
    "name": "ipython",
    "version": 3
   },
   "file_extension": ".py",
   "mimetype": "text/x-python",
   "name": "python",
   "nbconvert_exporter": "python",
   "pygments_lexer": "ipython3",
   "version": "3.11.5"
  },
  "orig_nbformat": 4
 },
 "nbformat": 4,
 "nbformat_minor": 2
}
